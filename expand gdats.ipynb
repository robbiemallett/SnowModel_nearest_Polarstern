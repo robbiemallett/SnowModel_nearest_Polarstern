{
 "cells": [
  {
   "cell_type": "markdown",
   "id": "maritime-court",
   "metadata": {},
   "source": [
    "# This code explains how to convert the gdat files into netcdfs"
   ]
  },
  {
   "cell_type": "markdown",
   "id": "korean-beijing",
   "metadata": {},
   "source": [
    "### The following code depends on you having these six files:"
   ]
  },
  {
   "cell_type": "code",
   "execution_count": 15,
   "id": "spare-election",
   "metadata": {},
   "outputs": [
    {
     "data": {
      "text/html": [
       "<img src=\"screenshots/required_files.png\"/>"
      ],
      "text/plain": [
       "<IPython.core.display.Image object>"
      ]
     },
     "execution_count": 15,
     "metadata": {},
     "output_type": "execute_result"
    }
   ],
   "source": [
    "from IPython.display import Image\n",
    "Image(url= \"screenshots/required_files.png\")"
   ]
  },
  {
   "cell_type": "markdown",
   "id": "alternate-porcelain",
   "metadata": {},
   "source": [
    "### You should also be operating this jupyter notebook from the directory above raw_data\n",
    "### To check this execute the following and check 'raw_data' is one of the returns"
   ]
  },
  {
   "cell_type": "code",
   "execution_count": 16,
   "id": "medical-blues",
   "metadata": {},
   "outputs": [
    {
     "name": "stdout",
     "output_type": "stream",
     "text": [
      "find_mosaic_parcel.ipynb  raw_data  screenshots\r\n"
     ]
    }
   ],
   "source": [
    "! ls"
   ]
  },
  {
   "cell_type": "markdown",
   "id": "smart-handle",
   "metadata": {},
   "source": [
    "### You'll now need to fiddle a tiny bit with the .ctl files\n",
    "### Replace this orange bit:"
   ]
  },
  {
   "cell_type": "code",
   "execution_count": 17,
   "id": "numerical-basket",
   "metadata": {},
   "outputs": [
    {
     "data": {
      "text/html": [
       "<img src=\"screenshots/wrong_ctl.png\"/>"
      ],
      "text/plain": [
       "<IPython.core.display.Image object>"
      ]
     },
     "execution_count": 17,
     "metadata": {},
     "output_type": "execute_result"
    }
   ],
   "source": [
    "Image(url= \"screenshots/wrong_ctl.png\")"
   ]
  },
  {
   "cell_type": "markdown",
   "id": "failing-karaoke",
   "metadata": {},
   "source": [
    "### With this orange bit:"
   ]
  },
  {
   "cell_type": "code",
   "execution_count": 18,
   "id": "beginning-language",
   "metadata": {},
   "outputs": [
    {
     "data": {
      "text/html": [
       "<img src=\"screenshots/right_ctl.png\"/>"
      ],
      "text/plain": [
       "<IPython.core.display.Image object>"
      ]
     },
     "execution_count": 18,
     "metadata": {},
     "output_type": "execute_result"
    }
   ],
   "source": [
    "Image(url= \"screenshots/right_ctl.png\")"
   ]
  },
  {
   "cell_type": "markdown",
   "id": "incorporate-cisco",
   "metadata": {},
   "source": [
    "### Make sure to do this in ***all three*** ctl files!\n",
    "\n",
    "### Now use the command line tool `cdo` to convert the .gdat files to netcdf\n",
    "\n",
    "### You will obviously need to have this installed (google climate data operators) - it's a super useful tool and well worth downloading"
   ]
  },
  {
   "cell_type": "code",
   "execution_count": 23,
   "id": "rising-petite",
   "metadata": {},
   "outputs": [],
   "source": [
    "fstring1 = \"cdo -f nc import_binary raw_data/SM_snod_merra2_parcels_01Aug2018-31Jul2020.ctl raw_data/snod_p.nc\"\n",
    "fstring2 = \"cdo -f nc import_binary raw_data/SM_sden_merra2_parcels_01Aug2018-31Jul2020.ctl raw_data/sden_p.nc\"\n",
    "fstring3 = \"cdo -f nc import_binary raw_data/ij_parcels_2018-2020.ctl raw_data/ij_p.nc\"\n",
    "\n",
    "for fstring in [fstring1, fstring2, fstring3]:\n",
    "    ! {fstring}\n"
   ]
  },
  {
   "cell_type": "markdown",
   "id": "incredible-linux",
   "metadata": {},
   "source": [
    "### The above code will create three netcdfs in your raw_data directory"
   ]
  },
  {
   "cell_type": "code",
   "execution_count": 25,
   "id": "cloudy-wiring",
   "metadata": {},
   "outputs": [
    {
     "data": {
      "text/html": [
       "<img src=\"screenshots/ncoutput.png\"/>"
      ],
      "text/plain": [
       "<IPython.core.display.Image object>"
      ]
     },
     "execution_count": 25,
     "metadata": {},
     "output_type": "execute_result"
    }
   ],
   "source": [
    "Image(url= \"screenshots/ncoutput.png\")"
   ]
  },
  {
   "cell_type": "code",
   "execution_count": null,
   "id": "welsh-memphis",
   "metadata": {},
   "outputs": [],
   "source": []
  }
 ],
 "metadata": {
  "kernelspec": {
   "display_name": "Python 3",
   "language": "python",
   "name": "python3"
  },
  "language_info": {
   "codemirror_mode": {
    "name": "ipython",
    "version": 3
   },
   "file_extension": ".py",
   "mimetype": "text/x-python",
   "name": "python",
   "nbconvert_exporter": "python",
   "pygments_lexer": "ipython3",
   "version": "3.7.9"
  }
 },
 "nbformat": 4,
 "nbformat_minor": 5
}
